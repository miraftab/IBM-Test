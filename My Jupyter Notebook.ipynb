{
    "cells": [
        {
            "cell_type": "markdown",
            "metadata": {
                "collapsed": true
            },
            "source": "<h1>My Jupyter Notebook on IBM Watson Studio</h1>"
        },
        {
            "cell_type": "markdown",
            "metadata": {},
            "source": "<strong>SEYED JAVAD MIRAFTABZADEH</strong>\n<p>Python programmer and Network Administrator</p>"
        },
        {
            "cell_type": "markdown",
            "metadata": {},
            "source": "<p><em>I am interested in data science because it fun :)</em></p>"
        },
        {
            "cell_type": "markdown",
            "metadata": {},
            "source": "### The code below just print Hello world and calculate additon for 1 to 1"
        },
        {
            "cell_type": "code",
            "execution_count": 1,
            "metadata": {},
            "outputs": [
                {
                    "name": "stdout",
                    "output_type": "stream",
                    "text": "Hello world!\n1 + 1 = 2\n"
                }
            ],
            "source": "print('Hello world!')\nprint('1 + 1 =', 1+1)"
        },
        {
            "cell_type": "markdown",
            "metadata": {},
            "source": "## Sample Markdown:\n### - Horizontal rule\n<hr>\n\n### - Bulleted list\n<ul>\n    <li>item 1</li>\n    <li>item 2</li>\n    <li>item 3</li>\n</ul>\n\n### - Numbered list\n<ol>\n    <li>item 1</li>\n    <li>item 2</li>\n    <li>item 3</li>    \n</ol>\n\n### - Tables\n| Header | Header | Header |\n|--------|--------|--------|\n| item 1 | item 2 | item 3 |\n| item 4 | item 5 | item 6 |\n| item 7 | item 8 | item 9 |\n\n### - Hyperlinks\n<a href='https://www.ibm.com' target='_blank'>IBM</a>\n\n### - Code/Syntax highlighting\n<code>\n    for i in range(10):\n        print(str(i).zfil(4))\n</code>"
        },
        {
            "cell_type": "code",
            "execution_count": null,
            "metadata": {},
            "outputs": [],
            "source": ""
        }
    ],
    "metadata": {
        "kernelspec": {
            "display_name": "Python 3.9",
            "language": "python",
            "name": "python3"
        },
        "language_info": {
            "codemirror_mode": {
                "name": "ipython",
                "version": 3
            },
            "file_extension": ".py",
            "mimetype": "text/x-python",
            "name": "python",
            "nbconvert_exporter": "python",
            "pygments_lexer": "ipython3",
            "version": "3.9.12"
        }
    },
    "nbformat": 4,
    "nbformat_minor": 1
}